{
 "cells": [
  {
   "cell_type": "code",
   "execution_count": 1,
   "id": "bc7fc434-5189-4854-aa2b-adbd797ad18d",
   "metadata": {},
   "outputs": [],
   "source": [
    "#Q1. What is the adding an element to a list in Python ?"
   ]
  },
  {
   "cell_type": "code",
   "execution_count": 2,
   "id": "acdf913c-a929-4b55-92ad-8a907cce5a83",
   "metadata": {},
   "outputs": [],
   "source": [
    "#ans"
   ]
  },
  {
   "cell_type": "code",
   "execution_count": 3,
   "id": "493813aa-953b-4e5d-bdca-1d08cfd54a2d",
   "metadata": {},
   "outputs": [],
   "source": [
    "l = [1,2,3,4,5,6]"
   ]
  },
  {
   "cell_type": "code",
   "execution_count": 5,
   "id": "b674b1e8-cded-473e-98f9-4f7ea0a70ba9",
   "metadata": {},
   "outputs": [
    {
     "data": {
      "text/plain": [
       "list"
      ]
     },
     "execution_count": 5,
     "metadata": {},
     "output_type": "execute_result"
    }
   ],
   "source": [
    "type(l)"
   ]
  },
  {
   "cell_type": "code",
   "execution_count": 6,
   "id": "749146a3-cd07-49ad-80d6-0fe90a1b9ddc",
   "metadata": {},
   "outputs": [],
   "source": [
    "l.append(7)"
   ]
  },
  {
   "cell_type": "code",
   "execution_count": 7,
   "id": "d2dd593a-fa22-4831-9279-a91ca5cdf0ef",
   "metadata": {},
   "outputs": [
    {
     "data": {
      "text/plain": [
       "[1, 2, 3, 4, 5, 6, 7]"
      ]
     },
     "execution_count": 7,
     "metadata": {},
     "output_type": "execute_result"
    }
   ],
   "source": [
    "l"
   ]
  },
  {
   "cell_type": "code",
   "execution_count": 8,
   "id": "4d6afdc2-0854-4540-91eb-50211acc286b",
   "metadata": {},
   "outputs": [],
   "source": [
    "# Q2. What is the differece between remove() and pop() functions in Python ?"
   ]
  },
  {
   "cell_type": "code",
   "execution_count": 9,
   "id": "6c4bb2e6-e321-43ab-81e2-182d5999bfab",
   "metadata": {},
   "outputs": [],
   "source": [
    "#ans"
   ]
  },
  {
   "cell_type": "code",
   "execution_count": 24,
   "id": "a448567b-5896-48fd-b34a-9716a4700d79",
   "metadata": {},
   "outputs": [],
   "source": [
    "l = [1,2,3,4,5,6]"
   ]
  },
  {
   "cell_type": "code",
   "execution_count": 25,
   "id": "88748312-3013-41c1-b3e6-d02f4e53f8dd",
   "metadata": {},
   "outputs": [],
   "source": [
    "l.remove(5)"
   ]
  },
  {
   "cell_type": "code",
   "execution_count": 26,
   "id": "6227c140-34c3-45b3-bda5-ac865308978a",
   "metadata": {},
   "outputs": [
    {
     "data": {
      "text/plain": [
       "[1, 2, 3, 4, 6]"
      ]
     },
     "execution_count": 26,
     "metadata": {},
     "output_type": "execute_result"
    }
   ],
   "source": [
    "l"
   ]
  },
  {
   "cell_type": "code",
   "execution_count": 27,
   "id": "dd541559-011b-4101-9109-b7b9dd2bff60",
   "metadata": {},
   "outputs": [],
   "source": [
    "l = [1,2,3,4,5,6]"
   ]
  },
  {
   "cell_type": "code",
   "execution_count": 28,
   "id": "ca56fa28-0271-4dd2-9fc8-264aeef7e4c0",
   "metadata": {},
   "outputs": [
    {
     "data": {
      "text/plain": [
       "6"
      ]
     },
     "execution_count": 28,
     "metadata": {},
     "output_type": "execute_result"
    }
   ],
   "source": [
    "l.pop()"
   ]
  },
  {
   "cell_type": "code",
   "execution_count": 29,
   "id": "240e29c0-e114-4290-8425-1059767d8802",
   "metadata": {},
   "outputs": [
    {
     "data": {
      "text/plain": [
       "[1, 2, 3, 4, 5]"
      ]
     },
     "execution_count": 29,
     "metadata": {},
     "output_type": "execute_result"
    }
   ],
   "source": [
    "l"
   ]
  },
  {
   "cell_type": "code",
   "execution_count": 1,
   "id": "a87ef568-e70b-4e9c-b3ac-b93285228803",
   "metadata": {},
   "outputs": [],
   "source": [
    "# Q3.Write a python code to sort a list in descending order"
   ]
  },
  {
   "cell_type": "code",
   "execution_count": 2,
   "id": "1d56ed45-014b-471e-8a60-72d2d2e02a13",
   "metadata": {},
   "outputs": [],
   "source": [
    "#ans"
   ]
  },
  {
   "cell_type": "code",
   "execution_count": 3,
   "id": "8539b7d8-696c-4a92-8bbf-97637e7be341",
   "metadata": {},
   "outputs": [],
   "source": [
    "l = [1,2,3,4,5,6]"
   ]
  },
  {
   "cell_type": "code",
   "execution_count": 4,
   "id": "70f9ffaf-f5b5-4b40-8e13-98f3293beea0",
   "metadata": {},
   "outputs": [],
   "source": [
    "l.sort()"
   ]
  },
  {
   "cell_type": "code",
   "execution_count": 5,
   "id": "cc1f7a46-ebc6-4510-bb75-515c67b04792",
   "metadata": {},
   "outputs": [
    {
     "data": {
      "text/plain": [
       "[1, 2, 3, 4, 5, 6]"
      ]
     },
     "execution_count": 5,
     "metadata": {},
     "output_type": "execute_result"
    }
   ],
   "source": [
    "l"
   ]
  },
  {
   "cell_type": "code",
   "execution_count": 6,
   "id": "2f050d9c-2523-4176-afae-9415cba4110d",
   "metadata": {},
   "outputs": [],
   "source": [
    "# Q4.Write a Python code to count the number of occurrences of an element in a list"
   ]
  },
  {
   "cell_type": "code",
   "execution_count": 7,
   "id": "3fffcdcb-452a-49bb-9c4e-660efc08cf8d",
   "metadata": {},
   "outputs": [],
   "source": [
    "#ans"
   ]
  },
  {
   "cell_type": "code",
   "execution_count": 14,
   "id": "d5ddc450-4608-4468-be33-bf59640a611b",
   "metadata": {},
   "outputs": [],
   "source": [
    "l = [1,2,3,7,1,4,5,6,7,8,9]"
   ]
  },
  {
   "cell_type": "code",
   "execution_count": 16,
   "id": "46eed7a9-b507-427e-a2bc-b55ac87c805c",
   "metadata": {},
   "outputs": [
    {
     "data": {
      "text/plain": [
       "2"
      ]
     },
     "execution_count": 16,
     "metadata": {},
     "output_type": "execute_result"
    }
   ],
   "source": [
    "l.count(7)"
   ]
  },
  {
   "cell_type": "code",
   "execution_count": 1,
   "id": "f3aba048-54c7-41b0-ad91-6728653fa68b",
   "metadata": {},
   "outputs": [],
   "source": [
    "# Q5. Write a python code to reverse a list."
   ]
  },
  {
   "cell_type": "code",
   "execution_count": 2,
   "id": "fc65d7f2-13cb-4787-b74d-88ec71b5376f",
   "metadata": {},
   "outputs": [],
   "source": [
    "# Ans"
   ]
  },
  {
   "cell_type": "code",
   "execution_count": 3,
   "id": "f348d059-c80c-43e2-a478-c6c1243bf9da",
   "metadata": {},
   "outputs": [],
   "source": [
    "l = [1,2,3,4,5,6,7]"
   ]
  },
  {
   "cell_type": "code",
   "execution_count": 4,
   "id": "67f98f59-e25d-409c-a4d0-5d8ea80c6e3d",
   "metadata": {},
   "outputs": [],
   "source": [
    "l.reverse()"
   ]
  },
  {
   "cell_type": "code",
   "execution_count": 6,
   "id": "ce3b9d4c-fa23-47a7-8bb4-0c6734ab611d",
   "metadata": {},
   "outputs": [
    {
     "data": {
      "text/plain": [
       "[7, 6, 5, 4, 3, 2, 1]"
      ]
     },
     "execution_count": 6,
     "metadata": {},
     "output_type": "execute_result"
    }
   ],
   "source": [
    "l"
   ]
  }
 ],
 "metadata": {
  "kernelspec": {
   "display_name": "Python 3 (ipykernel)",
   "language": "python",
   "name": "python3"
  },
  "language_info": {
   "codemirror_mode": {
    "name": "ipython",
    "version": 3
   },
   "file_extension": ".py",
   "mimetype": "text/x-python",
   "name": "python",
   "nbconvert_exporter": "python",
   "pygments_lexer": "ipython3",
   "version": "3.10.8"
  }
 },
 "nbformat": 4,
 "nbformat_minor": 5
}
